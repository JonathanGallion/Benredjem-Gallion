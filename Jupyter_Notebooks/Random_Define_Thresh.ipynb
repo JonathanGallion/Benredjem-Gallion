{
 "cells": [
  {
   "cell_type": "code",
   "execution_count": 2,
   "metadata": {},
   "outputs": [],
   "source": [
    "import os,math,sys, numpy as np, pandas as pd\n",
    "import scipy\n",
    "from scipy import linalg\n",
    "from numpy import dot\n",
    "from collections import defaultdict\n",
    "from sklearn.cluster import KMeans\n",
    "import glob\n",
    "import matplotlib.pyplot as plt\n",
    "from scipy.spatial import distance"
   ]
  },
  {
   "cell_type": "code",
   "execution_count": 14,
   "metadata": {},
   "outputs": [
    {
     "name": "stdout",
     "output_type": "stream",
     "text": [
      "What is the datatype name? Review_rDor\n"
     ]
    }
   ],
   "source": [
    "filetype='{0}'.format(sys.argv[1])\n",
    "filetype = input('What is the datatype name? ')"
   ]
  },
  {
   "cell_type": "code",
   "execution_count": 15,
   "metadata": {},
   "outputs": [],
   "source": [
    "path='../SEM/RandomClustering/%s/FrequencyMatrix/'%(filetype)\n",
    "filecounter=0\n",
    "Same_diff_Dict={'same':[],'diff':[]}\n",
    "for filename in glob.glob(os.path.join(path,'*Average*')):#Loop over all random frequency matrices\n",
    "    if filecounter<200:\n",
    "        #print(filename)\n",
    "        nameparts=filename.split('.')\n",
    "        parts=nameparts[-2].split('/')\n",
    "        #print(parts)\n",
    "        temp_df=pd.read_csv(filename, sep='\\t',header=0,index_col=0)\n",
    "        temp_df.drop(list(temp_df)[-1], inplace=True, axis=1)\n",
    "        \n",
    "        randommatrix=temp_df.values\n",
    "        randomcluster=KMeans(n_clusters=4).fit_predict(randommatrix)#Clustering the frequency matrix into 4 clusters. 4 Clusters were used in the actual data clustering as well, so the number of clusters should match between random and actual data. If # clusters changed in one, must be changed in both.\n",
    "        \n",
    "        threshdict=defaultdict(list)\n",
    "        for pos1, compound1 in enumerate (temp_df.index.values): #For every compound in matrix\n",
    "            for pos2, compound2 in enumerate (temp_df.index.values):#for Every compound in matrix\n",
    "                if compound1!=compound2:\n",
    "                    #print(compound1, compound2, pos1, pos2)\n",
    "                    #Calculate the distance between compound 1 and compound 2 using the array (row) of similarity values from the frequency matrix\n",
    "                    tempdistance=distance.euclidean(np.array(randommatrix[pos1]),\n",
    "                                                        np.array(randommatrix[pos2]))\n",
    "                    \n",
    "                    if randomcluster[pos1]==randomcluster[pos2]:\n",
    "                        #compounds are in the same cluster\n",
    "                        Same_diff_Dict['same'].append(tempdistance)\n",
    "                    else:\n",
    "                        Same_diff_Dict['diff'].append(tempdistance)\n",
    "                    \n",
    "                      \n",
    "    filecounter+=1\n",
    "\n",
    "\n"
   ]
  },
  {
   "cell_type": "code",
   "execution_count": 16,
   "metadata": {},
   "outputs": [
    {
     "name": "stderr",
     "output_type": "stream",
     "text": [
      "/anaconda3/lib/python3.7/site-packages/numpy/core/fromnumeric.py:2920: RuntimeWarning: Mean of empty slice.\n",
      "  out=out, **kwargs)\n",
      "/anaconda3/lib/python3.7/site-packages/numpy/core/_methods.py:85: RuntimeWarning: invalid value encountered in double_scalars\n",
      "  ret = ret.dtype.type(ret / rcount)\n",
      "/anaconda3/lib/python3.7/site-packages/numpy/core/_methods.py:140: RuntimeWarning: Degrees of freedom <= 0 for slice\n",
      "  keepdims=keepdims)\n",
      "/anaconda3/lib/python3.7/site-packages/numpy/core/_methods.py:110: RuntimeWarning: invalid value encountered in true_divide\n",
      "  arrmean, rcount, out=arrmean, casting='unsafe', subok=False)\n",
      "/anaconda3/lib/python3.7/site-packages/numpy/core/_methods.py:132: RuntimeWarning: invalid value encountered in double_scalars\n",
      "  ret = ret.dtype.type(ret / rcount)\n"
     ]
    },
    {
     "name": "stdout",
     "output_type": "stream",
     "text": [
      "same nan nan\n",
      "diff nan nan\n"
     ]
    },
    {
     "data": {
      "image/png": "[encoded data removed]",
      "text/plain": [
       "<Figure size 432x288 with 1 Axes>"
      ]
     },
     "metadata": {
      "needs_background": "light"
     },
     "output_type": "display_data"
    }
   ],
   "source": [
    "##Plotting the Two Distributions to find the best threshold to Seperate compounds\n",
    "##in the same cluster compared to those in different clusters\n",
    "\n",
    "plotdict=defaultdict(list)\n",
    "for i in Same_diff_Dict:\n",
    "    print(i,np.mean(Same_diff_Dict[i]),np.std(Same_diff_Dict[i]))\n",
    "#Plot the two distributions and Save\n",
    "bins=np.linspace(0,4.0,40)\n",
    "plt.hist(Same_diff_Dict['same'],bins,alpha=0.5,color='green', label='same')\n",
    "plt.hist(Same_diff_Dict['diff'],bins,alpha=0.5,color='red',label='diff')\n",
    "plt.title('Differences in distance betweeen compounds in the same and in different clusters')\n",
    "plt.legend()\n",
    "plt.xlabel('Euclidian Distance')\n",
    "plt.ylabel('Frequency')\n",
    "if filetype=='Structure':\n",
    "    plt.savefig('../compoundStructure/Clusters/DistanceDifferences_Random.png')\n",
    "else:\n",
    "    plt.savefig('../SEM/RandomClustering/DistanceDifferences_%s.png'%(filetype))\n",
    "#plt.show()"
   ]
  },
  {
   "cell_type": "code",
   "execution_count": null,
   "metadata": {},
   "outputs": [],
   "source": [
    "'Review_hDor':1.3, 'Review_hMor_Beta':"
   ]
  },
  {
   "cell_type": "code",
   "execution_count": null,
   "metadata": {},
   "outputs": [],
   "source": [
    "    path='../SEM/Freq_matrices/FrequencyMatrix/'%(filetype)\n",
    "    filecounter=0\n",
    "    Same_diff_Dict={'same':[],'diff':[]}\n",
    "    for filename in glob.glob(os.path.join(path,'*Average*')):#Loop over all random frequency matrices\n",
    "        if filecounter<200:\n",
    "            #print(filename)\n",
    "            nameparts=filename.split('.')\n",
    "            parts=nameparts[-2].split('/')\n",
    "            #print(parts)\n",
    "            temp_df=pd.read_csv(filename, sep='\\t',header=0,index_col=0)\n",
    "            temp_df.drop(list(temp_df)[-1], inplace=True, axis=1)\n",
    "\n",
    "            randommatrix=temp_df.values\n",
    "            randomcluster=KMeans(n_clusters=3).fit_predict(randommatrix)#Clustering the frequency matrix into 4 clusters. 4 Clusters were used in the actual data clustering as well, so the number of clusters should match between random and actual data. If # clusters changed in one, must be changed in both.\n",
    "\n",
    "            threshdict=defaultdict(list)\n",
    "            for pos1, compound1 in enumerate (temp_df.index.values): #For every compound in matrix\n",
    "                for pos2, compound2 in enumerate (temp_df.index.values):#for Every compound in matrix\n",
    "                    if compound1!=compound2:\n",
    "                        #print(compound1, compound2, pos1, pos2)\n",
    "                        #Calculate the distance between compound 1 and compound 2 using the array (row) of similarity values from the frequency matrix\n",
    "                        tempdistance=distance.euclidean(np.array(randommatrix[pos1]),\n",
    "                                                            np.array(randommatrix[pos2]))\n",
    "\n",
    "                        if randomcluster[pos1]==randomcluster[pos2]:\n",
    "                            #compounds are in the same cluster\n",
    "                            Same_diff_Dict['same'].append(tempdistance)\n",
    "                        else:\n",
    "                            Same_diff_Dict['diff'].append(tempdistance)\n",
    "\n",
    "\n",
    "        filecounter+=1\n",
    "\n",
    "    plotdict=defaultdict(list)\n",
    "    for i in Same_diff_Dict:\n",
    "        print(i,np.mean(Same_diff_Dict[i]),np.std(Same_diff_Dict[i]))\n",
    "    #Plot the two distributions and Save\n",
    "    bins=np.linspace(0,4.0,40)\n",
    "    plt.hist(Same_diff_Dict['same'],bins,alpha=0.5,color='green', label='same')\n",
    "    plt.hist(Same_diff_Dict['diff'],bins,alpha=0.5,color='red',label='diff')\n",
    "    plt.title('Differences in distance betweeen compounds in the same and in different clusters')\n",
    "    plt.legend()\n",
    "    plt.xlabel('Euclidian Distance')\n",
    "    plt.ylabel('Frequency')\n",
    "    if filetype=='Structure':\n",
    "        plt.savefig('../compoundStructure/Clusters/DistanceDifferences_Random.png')\n",
    "    else:\n",
    "        plt.savefig('../SEM/RandomClustering/DistanceDifferences_%s.png'%(filetype))\n",
    "    #plt.show()\n",
    "\n",
    "\n",
    "\n"
   ]
  },
  {
   "cell_type": "code",
   "execution_count": null,
   "metadata": {},
   "outputs": [],
   "source": [
    "####Threshold for K=3\n",
    "threshdict={'Review_hDor':1.25,'Review_h'}"
   ]
  }
 ],
 "metadata": {
  "kernelspec": {
   "display_name": "Python 3",
   "language": "python",
   "name": "python3"
  },
  "language_info": {
   "codemirror_mode": {
    "name": "ipython",
    "version": 3
   },
   "file_extension": ".py",
   "mimetype": "text/x-python",
   "name": "python",
   "nbconvert_exporter": "python",
   "pygments_lexer": "ipython3",
   "version": "3.7.1"
  }
 },
 "nbformat": 4,
 "nbformat_minor": 2
}
